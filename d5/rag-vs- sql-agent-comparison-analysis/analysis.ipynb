{
 "cells": [
  {
   "cell_type": "markdown",
   "id": "163b33dc",
   "metadata": {},
   "source": [
    "# RAG vs SQL Agent: E-commerce Customer Support\n",
    "\n",
    "This notebook compares Retrieval-Augmented Generation (RAG) and SQL Agent approaches to enable natural language queries over e-commerce support data."
   ]
  },
  {
   "cell_type": "markdown",
   "id": "393e92c5",
   "metadata": {},
   "source": [
    "## 1. Technical Architectures\n",
    "\n",
    "**RAG:**\n",
    "- Embeds all database content into a vector store (ChromaDB)\n",
    "- Queries use dense vector search + LLM\n",
    "\n",
    "**SQL Agent:**\n",
    "- Uses LangChain SQL agent with SQLite to parse and generate SQL queries"
   ]
  },
  {
   "cell_type": "code",
   "execution_count": null,
   "id": "a5657412",
   "metadata": {},
   "outputs": [],
   "source": [
    "# SQLite Setup: Create and populate sample tables\n",
    "import sqlite3\n",
    "conn = sqlite3.connect('ecommerce.db')\n",
    "cursor = conn.cursor()\n",
    "\n",
    "cursor.execute(\"\"\"\n",
    "CREATE TABLE IF NOT EXISTS customers (\n",
    "    id INTEGER PRIMARY KEY, name TEXT, email TEXT\n",
    ");\"\"\")\n",
    "cursor.execute(\"INSERT INTO customers (name, email) VALUES ('Alice', 'alice@example.com');\")\n",
    "conn.commit()"
   ]
  },
  {
   "cell_type": "code",
   "execution_count": null,
   "id": "82fd80e0",
   "metadata": {},
   "outputs": [],
   "source": [
    "# SQL Agent Setup\n",
    "from langchain_community.agent_toolkits import create_sql_agent\n",
    "from langchain_community.tools.sql_database.tool import QuerySQLDataBaseTool\n",
    "from langchain_community.utilities.sql_database import SQLDatabase\n",
    "from langchain_openai import ChatOpenAI\n",
    "\n",
    "db = SQLDatabase.from_uri(\"sqlite:///ecommerce.db\")\n",
    "llm = ChatOpenAI(temperature=0, model=\"gpt-3.5-turbo\")\n",
    "agent_executor = create_sql_agent(llm=llm, db=db, agent_type=\"openai-tools\")\n",
    "# Example: agent_executor.invoke({\"input\": \"Show all customers\"})"
   ]
  },
  {
   "cell_type": "code",
   "execution_count": null,
   "id": "1cfaa023",
   "metadata": {},
   "outputs": [],
   "source": [
    "# RAG + Chroma Setup\n",
    "from langchain_community.vectorstores import Chroma\n",
    "from langchain_openai import OpenAIEmbeddings\n",
    "from langchain.text_splitter import CharacterTextSplitter\n",
    "from langchain.docstore.document import Document\n",
    "\n",
    "docs = [Document(page_content=\"Alice placed an order for headphones\"),\n",
    "        Document(page_content=\"Bob wrote a review for the laptop\")]\n",
    "text_splitter = CharacterTextSplitter(chunk_size=100, chunk_overlap=10)\n",
    "chunks = text_splitter.split_documents(docs)\n",
    "vectorstore = Chroma.from_documents(chunks, OpenAIEmbeddings())\n",
    "retriever = vectorstore.as_retriever()"
   ]
  },
  {
   "cell_type": "markdown",
   "id": "3cf06b18",
   "metadata": {},
   "source": [
    "## 2. Streamlit UI for Querying\n",
    "- A simple natural language interface to choose SQL Agent or RAG"
   ]
  },
  {
   "cell_type": "code",
   "execution_count": null,
   "id": "958ab90e",
   "metadata": {},
   "outputs": [],
   "source": [
    "# Save this block as app.py to run\n",
    "import streamlit as st\n",
    "\n",
    "st.title(\"Customer Support: RAG vs SQL Agent\")\n",
    "query = st.text_input(\"Ask a question:\")\n",
    "mode = st.radio(\"Choose method\", [\"SQL Agent\", \"RAG\"])\n",
    "\n",
    "if st.button(\"Run\"):\n",
    "    if mode == \"SQL Agent\":\n",
    "        result = agent_executor.invoke({\"input\": query})\n",
    "        st.write(result[\"output\"])\n",
    "    else:\n",
    "        from langchain.chains import RetrievalQA\n",
    "        qa_chain = RetrievalQA.from_chain_type(llm, retriever=retriever)\n",
    "        result = qa_chain.run(query)\n",
    "        st.write(result)"
   ]
  },
  {
   "cell_type": "markdown",
   "id": "6d964054",
   "metadata": {},
   "source": [
    "## 3. Performance Benchmark\n",
    "Simulated results comparing latency, accuracy, and resources."
   ]
  },
  {
   "cell_type": "markdown",
   "id": "8b41c8c2",
   "metadata": {},
   "source": [
    "| Query | RAG Time | SQL Agent Time | Accuracy |\n",
    "|-------|----------|----------------|----------|\n",
    "| What did Alice buy? | 1.5s | 0.7s | ✅ Both |\n",
    "| List all reviews | 1.8s | 0.6s | ✅ SQL |\n",
    "| Order insights summary | ✅ | ❌ | ✅ RAG |"
   ]
  },
  {
   "cell_type": "markdown",
   "id": "7bc41afc",
   "metadata": {},
   "source": [
    "## 4. Recommendation Matrix\n",
    "\n",
    "| Scenario | RAG | SQL Agent |\n",
    "|----------|-----|------------|\n",
    "| Natural queries | ✅ | ❌ |\n",
    "| Filtered queries | ❌ | ✅ |\n",
    "| Summarization | ✅ | ❌ |\n",
    "| Data joins | ❌ | ✅ |"
   ]
  }
 ],
 "metadata": {
  "kernelspec": {
   "display_name": "Python 3",
   "language": "python",
   "name": "python3"
  },
  "language_info": {
   "name": "python",
   "version": "3.11"
  }
 },
 "nbformat": 4,
 "nbformat_minor": 5
}
